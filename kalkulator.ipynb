{
  "nbformat": 4,
  "nbformat_minor": 0,
  "metadata": {
    "colab": {
      "provenance": [],
      "authorship_tag": "ABX9TyOOm/HnJ+Ooe663ea1t5blQ",
      "include_colab_link": true
    },
    "kernelspec": {
      "name": "python3",
      "display_name": "Python 3"
    },
    "language_info": {
      "name": "python"
    }
  },
  "cells": [
    {
      "cell_type": "markdown",
      "metadata": {
        "id": "view-in-github",
        "colab_type": "text"
      },
      "source": [
        "<a href=\"https://colab.research.google.com/github/pawel-wyszomirski/colab-python/blob/main/kalkulator.ipynb\" target=\"_parent\"><img src=\"https://colab.research.google.com/assets/colab-badge.svg\" alt=\"Open In Colab\"/></a>"
      ]
    },
    {
      "cell_type": "markdown",
      "source": [
        "# Kalkulator"
      ],
      "metadata": {
        "id": "Ga7JmDWzet6g"
      }
    },
    {
      "cell_type": "code",
      "execution_count": 1,
      "metadata": {
        "colab": {
          "base_uri": "https://localhost:8080/"
        },
        "id": "7bAFfniJdcg3",
        "outputId": "33f51c48-07f3-447c-e87c-c0968c24764d"
      },
      "outputs": [
        {
          "output_type": "stream",
          "name": "stdout",
          "text": [
            "Wybierz operację:\n",
            "1. Dodawanie\n",
            "2. Odejmowanie\n",
            "3. Mnożenie\n",
            "4. Dzielenie\n",
            "Wprowadź numer operacji (1/2/3/4): 3\n",
            "Podaj pierwszą liczbę: 2345\n",
            "Podaj drugą liczbę: 23\n",
            "Wynik: 2345.0 * 23.0 = 53935.0\n"
          ]
        }
      ],
      "source": [
        "# Funkcje kalkulatora\n",
        "def dodaj(x, y):\n",
        "    return x + y\n",
        "\n",
        "def odejmij(x, y):\n",
        "    return x - y\n",
        "\n",
        "def mnoz(x, y):\n",
        "    return x * y\n",
        "\n",
        "def dziel(x, y):\n",
        "    if y != 0:\n",
        "        return x / y\n",
        "    else:\n",
        "        return \"Nie można dzielić przez zero!\"\n",
        "\n",
        "# Główna funkcja kalkulatora\n",
        "def kalkulator():\n",
        "    print(\"Wybierz operację:\")\n",
        "    print(\"1. Dodawanie\")\n",
        "    print(\"2. Odejmowanie\")\n",
        "    print(\"3. Mnożenie\")\n",
        "    print(\"4. Dzielenie\")\n",
        "\n",
        "    wybor = input(\"Wprowadź numer operacji (1/2/3/4): \")\n",
        "\n",
        "    # Pobieranie liczb od użytkownika\n",
        "    liczba1 = float(input(\"Podaj pierwszą liczbę: \"))\n",
        "    liczba2 = float(input(\"Podaj drugą liczbę: \"))\n",
        "\n",
        "    # Wykonywanie operacji na podstawie wyboru użytkownika\n",
        "    if wybor == '1':\n",
        "        print(f\"Wynik: {liczba1} + {liczba2} = {dodaj(liczba1, liczba2)}\")\n",
        "    elif wybor == '2':\n",
        "        print(f\"Wynik: {liczba1} - {liczba2} = {odejmij(liczba1, liczba2)}\")\n",
        "    elif wybor == '3':\n",
        "        print(f\"Wynik: {liczba1} * {liczba2} = {mnoz(liczba1, liczba2)}\")\n",
        "    elif wybor == '4':\n",
        "        print(f\"Wynik: {liczba1} / {liczba2} = {dziel(liczba1, liczba2)}\")\n",
        "    else:\n",
        "        print(\"Błędny wybór operacji\")\n",
        "\n",
        "# Uruchomienie kalkulatora\n",
        "kalkulator()\n"
      ]
    },
    {
      "cell_type": "markdown",
      "source": [
        "# Fibonacci"
      ],
      "metadata": {
        "id": "tTlYHTo0ex8r"
      }
    },
    {
      "cell_type": "code",
      "source": [
        "def fibonacci_iteracyjnie(n):\n",
        "    # Obsługa przypadków bazowych\n",
        "    if n == 0:\n",
        "        return 0\n",
        "    elif n == 1:\n",
        "        return 1\n",
        "\n",
        "    a, b = 0, 1\n",
        "    for i in range(2, n + 1):\n",
        "        a, b = b, a + b\n",
        "    return b\n",
        "\n",
        "# Testowanie funkcji\n",
        "n = int(input(\"Podaj liczbę n: \"))\n",
        "print(f\"{n}-ta liczba Fibonacciego to: {fibonacci_iteracyjnie(n)}\")\n"
      ],
      "metadata": {
        "colab": {
          "base_uri": "https://localhost:8080/"
        },
        "id": "y5kJl1zqeAW6",
        "outputId": "bfbf90ef-db35-467b-f043-8849f0d482d4"
      },
      "execution_count": 2,
      "outputs": [
        {
          "output_type": "stream",
          "name": "stdout",
          "text": [
            "Podaj liczbę n: 5\n",
            "5-ta liczba Fibonacciego to: 5\n"
          ]
        }
      ]
    },
    {
      "cell_type": "code",
      "source": [
        "def fibonacci_rekurencyjnie(n):\n",
        "    if n == 0:\n",
        "        return 0\n",
        "    elif n == 1:\n",
        "        return 1\n",
        "    else:\n",
        "        return fibonacci_rekurencyjnie(n-1) + fibonacci_rekurencyjnie(n-2)\n",
        "\n",
        "# Testowanie funkcji\n",
        "n = int(input(\"Podaj liczbę n: \"))\n",
        "print(f\"{n}-ta liczba Fibonacciego to: {fibonacci_rekurencyjnie(n)}\")\n"
      ],
      "metadata": {
        "colab": {
          "base_uri": "https://localhost:8080/"
        },
        "id": "nx-sfxmaeARf",
        "outputId": "62076e39-ab0b-497e-b059-189372199583"
      },
      "execution_count": 3,
      "outputs": [
        {
          "output_type": "stream",
          "name": "stdout",
          "text": [
            "Podaj liczbę n: 6\n",
            "6-ta liczba Fibonacciego to: 8\n"
          ]
        }
      ]
    },
    {
      "cell_type": "markdown",
      "source": [
        "# Liczby pierwsze"
      ],
      "metadata": {
        "id": "Qp7xTRZze2OI"
      }
    },
    {
      "cell_type": "code",
      "source": [
        "def czy_liczba_pierwsza(n):\n",
        "    if n < 2:\n",
        "        return False\n",
        "    for i in range(2, n):\n",
        "        if n % i == 0:\n",
        "            return False\n",
        "    return True\n",
        "\n",
        "# Testowanie funkcji\n",
        "n = int(input(\"Podaj liczbę, którą chcesz sprawdzić: \"))\n",
        "if czy_liczba_pierwsza(n):\n",
        "    print(f\"{n} jest liczbą pierwszą.\")\n",
        "else:\n",
        "    print(f\"{n} nie jest liczbą pierwszą.\")\n"
      ],
      "metadata": {
        "colab": {
          "base_uri": "https://localhost:8080/"
        },
        "id": "hO5AFbeSe5Ea",
        "outputId": "7103144e-f6ea-4581-ec97-513edee96a86"
      },
      "execution_count": 4,
      "outputs": [
        {
          "output_type": "stream",
          "name": "stdout",
          "text": [
            "Podaj liczbę, którą chcesz sprawdzić: 67\n",
            "67 jest liczbą pierwszą.\n"
          ]
        }
      ]
    },
    {
      "cell_type": "code",
      "source": [
        "import math\n",
        "\n",
        "def czy_liczba_pierwsza_opt(n):\n",
        "    if n < 2:\n",
        "        return False\n",
        "    for i in range(2, int(math.sqrt(n)) + 1):\n",
        "        if n % i == 0:\n",
        "            return False\n",
        "    return True\n",
        "\n",
        "# Testowanie funkcji\n",
        "n = int(input(\"Podaj liczbę, którą chcesz sprawdzić: \"))\n",
        "if czy_liczba_pierwsza_opt(n):\n",
        "    print(f\"{n} jest liczbą pierwszą.\")\n",
        "else:\n",
        "    print(f\"{n} nie jest liczbą pierwszą.\")\n"
      ],
      "metadata": {
        "colab": {
          "base_uri": "https://localhost:8080/"
        },
        "id": "NbFqPH6nfAPr",
        "outputId": "689de4ea-3033-438d-8fa8-2eb093af9d8d"
      },
      "execution_count": 5,
      "outputs": [
        {
          "output_type": "stream",
          "name": "stdout",
          "text": [
            "Podaj liczbę, którą chcesz sprawdzić: 54\n",
            "54 nie jest liczbą pierwszą.\n"
          ]
        }
      ]
    },
    {
      "cell_type": "code",
      "source": [
        "import math\n",
        "\n",
        "def czy_liczba_pierwsza_opt(n):\n",
        "    if n < 2:\n",
        "        return False\n",
        "    for i in range(2, int(math.sqrt(n)) + 1):\n",
        "        if n % i == 0:\n",
        "            return False\n",
        "    return True\n",
        "\n",
        "# Testowanie funkcji\n",
        "n = int(input(\"Podaj liczbę, którą chcesz sprawdzić: \"))\n",
        "if czy_liczba_pierwsza_opt(n):\n",
        "    print(f\"{n} jest liczbą pierwszą.\")\n",
        "else:\n",
        "    print(f\"{n} nie jest liczbą pierwszą.\")\n"
      ],
      "metadata": {
        "colab": {
          "base_uri": "https://localhost:8080/"
        },
        "id": "36GD_l_CfHd3",
        "outputId": "3f1f9154-c319-4e3b-fc41-d8a16c73c4c9"
      },
      "execution_count": 6,
      "outputs": [
        {
          "output_type": "stream",
          "name": "stdout",
          "text": [
            "Podaj liczbę, którą chcesz sprawdzić: 88\n",
            "88 nie jest liczbą pierwszą.\n"
          ]
        }
      ]
    },
    {
      "cell_type": "code",
      "source": [
        "def znajdz_liczby_pierwsze_do_n(n):\n",
        "    liczby_pierwsze = []\n",
        "    for i in range(2, n + 1):\n",
        "        if czy_liczba_pierwsza_opt(i):\n",
        "            liczby_pierwsze.append(i)\n",
        "    return liczby_pierwsze\n",
        "\n",
        "# Testowanie funkcji\n",
        "n = int(input(\"Podaj liczbę n, do której chcesz znaleźć liczby pierwsze: \"))\n",
        "print(f\"Liczby pierwsze od 1 do {n}: {znajdz_liczby_pierwsze_do_n(n)}\")\n"
      ],
      "metadata": {
        "colab": {
          "base_uri": "https://localhost:8080/"
        },
        "id": "5fLfnLz2fUQ8",
        "outputId": "0d536ad9-09dc-43cf-9262-756f9eaeb9d7"
      },
      "execution_count": 7,
      "outputs": [
        {
          "output_type": "stream",
          "name": "stdout",
          "text": [
            "Podaj liczbę n, do której chcesz znaleźć liczby pierwsze: 99\n",
            "Liczby pierwsze od 1 do 99: [2, 3, 5, 7, 11, 13, 17, 19, 23, 29, 31, 37, 41, 43, 47, 53, 59, 61, 67, 71, 73, 79, 83, 89, 97]\n"
          ]
        }
      ]
    },
    {
      "cell_type": "markdown",
      "source": [
        "# Sortowanie"
      ],
      "metadata": {
        "id": "iaLh-fLSfuaS"
      }
    },
    {
      "cell_type": "markdown",
      "source": [
        "Sortowanie bąbelkowe (Bubble Sort)\n",
        "Sortowanie bąbelkowe działa w taki sposób, że przechodzi przez listę wielokrotnie i za każdym razem porównuje sąsiadujące elementy, zamieniając je miejscami, jeśli są w złej kolejności. Proces powtarza się, aż lista będzie posortowana."
      ],
      "metadata": {
        "id": "s1y_NyZif5oI"
      }
    },
    {
      "cell_type": "code",
      "source": [
        "def sortowanie_babelkowe(arr):\n",
        "    n = len(arr)\n",
        "    for i in range(n):\n",
        "        # Ostatnie i elementy są już na właściwym miejscu\n",
        "        for j in range(0, n - i - 1):\n",
        "            # Zamień miejscami, jeśli element znaleziony jest większy niż następny\n",
        "            if arr[j] > arr[j + 1]:\n",
        "                arr[j], arr[j + 1] = arr[j + 1], arr[j]\n",
        "    return arr\n",
        "\n",
        "# Testowanie funkcji\n",
        "arr = [64, 34, 25, 12, 22, 11, 90]\n",
        "print(f\"Tablica przed sortowaniem: {arr}\")\n",
        "sorted_arr = sortowanie_babelkowe(arr)\n",
        "print(f\"Tablica po sortowaniu bąbelkowym: {sorted_arr}\")\n"
      ],
      "metadata": {
        "colab": {
          "base_uri": "https://localhost:8080/"
        },
        "id": "pbLPZI_FfYQz",
        "outputId": "bca19c1d-428f-453c-f0ed-21f1bf680c13"
      },
      "execution_count": 8,
      "outputs": [
        {
          "output_type": "stream",
          "name": "stdout",
          "text": [
            "Tablica przed sortowaniem: [64, 34, 25, 12, 22, 11, 90]\n",
            "Tablica po sortowaniu bąbelkowym: [11, 12, 22, 25, 34, 64, 90]\n"
          ]
        }
      ]
    },
    {
      "cell_type": "markdown",
      "source": [
        "Sortowanie przez wstawianie (Insertion Sort)\n",
        "Sortowanie przez wstawianie działa poprzez podział listy na dwie części: posortowaną i nieposortowaną. Dla każdego elementu z nieposortowanej części, algorytm szuka odpowiedniego miejsca w posortowanej części i wstawia element tam, gdzie pasuje."
      ],
      "metadata": {
        "id": "ir3iBLyZf-NW"
      }
    },
    {
      "cell_type": "code",
      "source": [
        "def sortowanie_przez_wstawianie(arr):\n",
        "    # Przechodzimy przez tablicę zaczynając od drugiego elementu\n",
        "    for i in range(1, len(arr)):\n",
        "        klucz = arr[i]\n",
        "        j = i - 1\n",
        "        # Przesuwamy elementy arr[0..i-1], które są większe od klucza, o jedno miejsce w prawo\n",
        "        while j >= 0 and klucz < arr[j]:\n",
        "            arr[j + 1] = arr[j]\n",
        "            j -= 1\n",
        "        arr[j + 1] = klucz\n",
        "    return arr\n",
        "\n",
        "# Testowanie funkcji\n",
        "arr = [64, 34, 25, 12, 22, 11, 90]\n",
        "print(f\"Tablica przed sortowaniem: {arr}\")\n",
        "sorted_arr = sortowanie_przez_wstawianie(arr)\n",
        "print(f\"Tablica po sortowaniu przez wstawianie: {sorted_arr}\")\n"
      ],
      "metadata": {
        "colab": {
          "base_uri": "https://localhost:8080/"
        },
        "id": "wjPoYxTofxr0",
        "outputId": "f3067573-2a88-4caa-da55-23b6040d2fef"
      },
      "execution_count": 9,
      "outputs": [
        {
          "output_type": "stream",
          "name": "stdout",
          "text": [
            "Tablica przed sortowaniem: [64, 34, 25, 12, 22, 11, 90]\n",
            "Tablica po sortowaniu przez wstawianie: [11, 12, 22, 25, 34, 64, 90]\n"
          ]
        }
      ]
    },
    {
      "cell_type": "code",
      "source": [],
      "metadata": {
        "id": "2Bo6FtxcgA5T"
      },
      "execution_count": null,
      "outputs": []
    }
  ]
}